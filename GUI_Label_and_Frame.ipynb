{
 "cells": [
  {
   "cell_type": "code",
   "execution_count": 1,
   "id": "ea65f359",
   "metadata": {},
   "outputs": [],
   "source": [
    "from tkinter import *\n",
    "root = Tk()\n",
    "root.geometry(\"644x434\")\n",
    "root.minsize(300,100)\n",
    "root.maxsize(1200,988)\n",
    "f1 = Frame (root, bg=\"blue\",borderwidth = 6, relief = SUNKEN)\n",
    "f1.pack(side = TOP )\n",
    "aish = Label ( f1,text = \"Let's learn GUI.\", font = \"Helvetica 16 bold\", fg = \"red\", pady = 22 ,padx = 20)\n",
    "aish.pack()\n",
    "root.mainloop()"
   ]
  },
  {
   "cell_type": "code",
   "execution_count": null,
   "id": "8663f56e",
   "metadata": {},
   "outputs": [],
   "source": []
  }
 ],
 "metadata": {
  "kernelspec": {
   "display_name": "Python 3 (ipykernel)",
   "language": "python",
   "name": "python3"
  },
  "language_info": {
   "codemirror_mode": {
    "name": "ipython",
    "version": 3
   },
   "file_extension": ".py",
   "mimetype": "text/x-python",
   "name": "python",
   "nbconvert_exporter": "python",
   "pygments_lexer": "ipython3",
   "version": "3.9.12"
  }
 },
 "nbformat": 4,
 "nbformat_minor": 5
}
