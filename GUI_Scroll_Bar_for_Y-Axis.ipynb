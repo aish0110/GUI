{
 "cells": [
  {
   "cell_type": "code",
   "execution_count": 2,
   "id": "9b22fd4c",
   "metadata": {},
   "outputs": [],
   "source": [
    "from tkinter import *\n",
    "root = Tk()\n",
    "root.geometry(\"455x233\")\n",
    "root.title(\"Scollbar tutorial\")\n",
    "\n",
    "scrollbar = Scrollbar(root)\n",
    "scrollbar.pack (side = RIGHT , fill = Y)\n",
    "\n",
    "listbox = Listbox(root , yscrollcommand = scrollbar.set)\n",
    "for i in range (100):\n",
    "    listbox.insert(END , f\"Item {i}\")\n",
    "    \n",
    "listbox.pack(fill = \"both\" , padx = 22)\n",
    "\n",
    "scrollbar.config(command = listbox.yview)\n",
    "\n",
    "root.mainloop()"
   ]
  },
  {
   "cell_type": "code",
   "execution_count": 5,
   "id": "145b5438",
   "metadata": {},
   "outputs": [],
   "source": [
    "from tkinter import *\n",
    "root = Tk()\n",
    "root.geometry (\"455x233\")\n",
    "root.title(\"Scrollbar tutorial\")\n",
    "\n",
    "scrollbar = Scrollbar(root)\n",
    "scrollbar.pack(side = RIGHT , fill = Y)\n",
    "\n",
    "text = Text(root , yscrollcommand = scrollbar.set)\n",
    "text.pack(fill = BOTH)\n",
    "\n",
    "scrollbar.config(command = text.yview)\n",
    "\n",
    "root.mainloop()"
   ]
  },
  {
   "cell_type": "code",
   "execution_count": null,
   "id": "44434260",
   "metadata": {},
   "outputs": [],
   "source": []
  }
 ],
 "metadata": {
  "kernelspec": {
   "display_name": "Python 3 (ipykernel)",
   "language": "python",
   "name": "python3"
  },
  "language_info": {
   "codemirror_mode": {
    "name": "ipython",
    "version": 3
   },
   "file_extension": ".py",
   "mimetype": "text/x-python",
   "name": "python",
   "nbconvert_exporter": "python",
   "pygments_lexer": "ipython3",
   "version": "3.9.12"
  }
 },
 "nbformat": 4,
 "nbformat_minor": 5
}
