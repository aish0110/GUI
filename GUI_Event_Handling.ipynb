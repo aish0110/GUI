{
 "cells": [
  {
   "cell_type": "code",
   "execution_count": 1,
   "id": "6ddabfc1",
   "metadata": {},
   "outputs": [
    {
     "name": "stdout",
     "output_type": "stream",
     "text": [
      " You clicked on the button 45, 18\n"
     ]
    }
   ],
   "source": [
    "from tkinter import *\n",
    "\n",
    "def Aishwarya (event):\n",
    "    print(f\" You clicked on the button {event.x}, {event.y}\" )\n",
    "\n",
    "def quit(event):\n",
    "    print(\"let's stop\")\n",
    "    import sys; sys.exit()\n",
    "    \n",
    "root = Tk()\n",
    "root.title(\"Events in tkinter\")\n",
    "root.geometry(\"766x500\")\n",
    "\n",
    "widget = Button(root, text = \"Click me please\")\n",
    "widget.pack()\n",
    "\n",
    "widget.bind (\"<Button-1>\" , Aishwarya)\n",
    "widget.bind (\"<Double-Button-1>\", quit)\n",
    "\n",
    "root.mainloop()"
   ]
  },
  {
   "cell_type": "code",
   "execution_count": null,
   "id": "cf52a00b",
   "metadata": {},
   "outputs": [],
   "source": []
  }
 ],
 "metadata": {
  "kernelspec": {
   "display_name": "Python 3 (ipykernel)",
   "language": "python",
   "name": "python3"
  },
  "language_info": {
   "codemirror_mode": {
    "name": "ipython",
    "version": 3
   },
   "file_extension": ".py",
   "mimetype": "text/x-python",
   "name": "python",
   "nbconvert_exporter": "python",
   "pygments_lexer": "ipython3",
   "version": "3.9.12"
  }
 },
 "nbformat": 4,
 "nbformat_minor": 5
}
