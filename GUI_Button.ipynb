{
 "cells": [
  {
   "cell_type": "code",
   "execution_count": 7,
   "id": "69847be0",
   "metadata": {},
   "outputs": [
    {
     "name": "stdout",
     "output_type": "stream",
     "text": [
      "Hello dear\n"
     ]
    }
   ],
   "source": [
    "from tkinter import *\n",
    "root = Tk()\n",
    "root.geometry(\"766x500\")\n",
    "def hello():\n",
    "    print(\"Hello dear\")\n",
    "    \n",
    "    \n",
    "f1 = Frame (root, bg = \"yellow\" , borderwidth = 5 , relief = SUNKEN )\n",
    "f1.pack(side = TOP , anchor = \"nw\")\n",
    "\n",
    "b1 = Button(f1, fg = \"red\" , text =  \"GUI\" , font = \"Helvetica 16 bold\" ,\n",
    "            command = hello)\n",
    "b1.pack(side = TOP)\n",
    "\n",
    "root.mainloop()"
   ]
  },
  {
   "cell_type": "code",
   "execution_count": null,
   "id": "0ffa5a6f",
   "metadata": {},
   "outputs": [],
   "source": []
  }
 ],
 "metadata": {
  "kernelspec": {
   "display_name": "Python 3 (ipykernel)",
   "language": "python",
   "name": "python3"
  },
  "language_info": {
   "codemirror_mode": {
    "name": "ipython",
    "version": 3
   },
   "file_extension": ".py",
   "mimetype": "text/x-python",
   "name": "python",
   "nbconvert_exporter": "python",
   "pygments_lexer": "ipython3",
   "version": "3.9.12"
  }
 },
 "nbformat": 4,
 "nbformat_minor": 5
}
