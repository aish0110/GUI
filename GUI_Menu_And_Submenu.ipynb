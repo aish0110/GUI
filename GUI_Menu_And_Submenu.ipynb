{
 "cells": [
  {
   "cell_type": "code",
   "execution_count": 1,
   "id": "d8ac7fd8",
   "metadata": {},
   "outputs": [
    {
     "name": "stdout",
     "output_type": "stream",
     "text": [
      "Mai ek bahut hi natkhat aur shaitaan function hoon\n"
     ]
    }
   ],
   "source": [
    "from tkinter import *\n",
    "root = Tk()\n",
    "root.geometry(\"600x400\")\n",
    "root.title(\"Pycharm\")\n",
    "\n",
    "def myfunc():\n",
    "    print(\"Mai ek bahut hi natkhat aur shaitaan function hoon\")\n",
    "    \n",
    "mainmenu = Menu(root)\n",
    "m1 = Menu(mainmenu, tearoff = 0)\n",
    "m1.add_command (label = \"New Project\" , command = myfunc)\n",
    "m1.add_command (label = \"Save\",command = myfunc)\n",
    "m1.add_separator()\n",
    "m1.add_command(label = \"Save As\" , command = myfunc)\n",
    "m1.add_command (label = \"Print\" , command = myfunc)\n",
    "root.config(menu=mainmenu)\n",
    "mainmenu.add_cascade(label = \"File\" , menu = m1)\n",
    "\n",
    "m2 = Menu(mainmenu, tearoff = 0)\n",
    "m2.add_command (label = \"Cut\" , command = myfunc)\n",
    "m2.add_command (label = \"Copy\" , command = myfunc)\n",
    "m2.add_separator()\n",
    "m2.add_command (label = \"Paste\", command = myfunc)\n",
    "m2.add_command (label = \"Find\" ,command = myfunc)\n",
    "root.config(menu=mainmenu)\n",
    "mainmenu.add_cascade(label = \"Edit\" , menu =m2)\n",
    "\n",
    "m3 = Menu(mainmenu)\n",
    "m3.add_command (label = \"Insert Cell About\" , command = myfunc)\n",
    "m3.add_command (label = \"insert Cell Below\" , command = myfunc)\n",
    "root.config (menu = mainmenu)\n",
    "mainmenu.add_cascade(label = \"Insert\" , menu = m3)\n",
    "\n",
    "m4 = Menu(mainmenu)\n",
    "m4.add_command (label = \"\")\n",
    "\n",
    "root.mainloop()"
   ]
  },
  {
   "cell_type": "code",
   "execution_count": null,
   "id": "f24b3020",
   "metadata": {},
   "outputs": [],
   "source": []
  }
 ],
 "metadata": {
  "kernelspec": {
   "display_name": "Python 3 (ipykernel)",
   "language": "python",
   "name": "python3"
  },
  "language_info": {
   "codemirror_mode": {
    "name": "ipython",
    "version": 3
   },
   "file_extension": ".py",
   "mimetype": "text/x-python",
   "name": "python",
   "nbconvert_exporter": "python",
   "pygments_lexer": "ipython3",
   "version": "3.9.12"
  }
 },
 "nbformat": 4,
 "nbformat_minor": 5
}
