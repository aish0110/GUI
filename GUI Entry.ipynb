{
 "cells": [
  {
   "cell_type": "code",
   "execution_count": 3,
   "id": "44bfc9cf",
   "metadata": {},
   "outputs": [
    {
     "name": "stdout",
     "output_type": "stream",
     "text": [
      " The value of username is aishwarya\n",
      " The value of password is 12345\n"
     ]
    }
   ],
   "source": [
    "from tkinter import *\n",
    "root = Tk()\n",
    "root.geometry(\"766x500\")\n",
    "\n",
    "def getvals():\n",
    "    print(f\" The value of username is {uservalue.get()}\")\n",
    "    print(f\" The value of password is {passvalue.get()}\")\n",
    "\n",
    "user = Label (root, text = \"Username\")\n",
    "password = Label (root, text = \"Password\")\n",
    "user.grid()\n",
    "password.grid(row = 1)\n",
    "\n",
    "#Entry\n",
    "\n",
    "uservalue = StringVar()\n",
    "passvalue = StringVar()\n",
    "\n",
    "userentry = Entry (root , textvariable = uservalue)\n",
    "passentry = Entry (root , textvariable = passvalue)\n",
    "\n",
    "userentry.grid (row=0 , column=1)\n",
    "passentry.grid (row=1 , column=1)\n",
    "\n",
    "Button(text = \"Submit\", command = getvals).grid()\n",
    "\n",
    "root.mainloop()\n",
    "\n"
   ]
  },
  {
   "cell_type": "code",
   "execution_count": null,
   "id": "7508359e",
   "metadata": {},
   "outputs": [],
   "source": []
  }
 ],
 "metadata": {
  "kernelspec": {
   "display_name": "Python 3 (ipykernel)",
   "language": "python",
   "name": "python3"
  },
  "language_info": {
   "codemirror_mode": {
    "name": "ipython",
    "version": 3
   },
   "file_extension": ".py",
   "mimetype": "text/x-python",
   "name": "python",
   "nbconvert_exporter": "python",
   "pygments_lexer": "ipython3",
   "version": "3.9.12"
  }
 },
 "nbformat": 4,
 "nbformat_minor": 5
}
